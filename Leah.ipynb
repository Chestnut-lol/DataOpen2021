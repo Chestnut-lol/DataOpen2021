{
 "cells": [
  {
   "cell_type": "code",
   "execution_count": 1,
   "id": "abd714f8-8e74-4bb6-85a3-1404db7c6d37",
   "metadata": {},
   "outputs": [],
   "source": [
    "import numpy as np\n",
    "import pandas as pd\n",
    "import matplotlib.pyplot as plt\n",
    "%matplotlib inline"
   ]
  },
  {
   "cell_type": "code",
   "execution_count": 2,
   "id": "218df1cd-bb88-4188-8566-20b3e1564810",
   "metadata": {},
   "outputs": [],
   "source": [
    "filename = \"data/stop_smoking.csv\"\n",
    "stop = pd.read_csv(filename)"
   ]
  },
  {
   "cell_type": "code",
   "execution_count": 4,
   "id": "1136b02f-a15f-458e-a630-9246b9d383c9",
   "metadata": {},
   "outputs": [
    {
     "name": "stdout",
     "output_type": "stream",
     "text": [
      "<class 'pandas.core.frame.DataFrame'>\n",
      "RangeIndex: 774 entries, 0 to 773\n",
      "Data columns (total 7 columns):\n",
      " #   Column                       Non-Null Count  Dtype  \n",
      "---  ------                       --------------  -----  \n",
      " 0   Entity                       774 non-null    object \n",
      " 1   Code                         774 non-null    object \n",
      " 2   Year                         774 non-null    int64  \n",
      " 3   AvgCigarettePriceDollars     208 non-null    float64\n",
      " 4   AvgTaxesAsPctCigarettePrice  209 non-null    float64\n",
      " 5   EnforceBansTobaccoAd         774 non-null    int64  \n",
      " 6   HelpToQuit                   774 non-null    int64  \n",
      "dtypes: float64(2), int64(3), object(2)\n",
      "memory usage: 42.5+ KB\n"
     ]
    }
   ],
   "source": [
    "stop.info()"
   ]
  },
  {
   "cell_type": "markdown",
   "id": "2c75c275-aa99-4cee-81e5-5e17795a624a",
   "metadata": {},
   "source": [
    "look at Entity categorical There are 2 entries for one entity and 4 each for all others. Can use one-hot encode"
   ]
  },
  {
   "cell_type": "code",
   "execution_count": 30,
   "id": "35823c05-ada7-4f8d-88f6-a5ab0bae403c",
   "metadata": {},
   "outputs": [
    {
     "data": {
      "text/html": [
       "<div>\n",
       "<style scoped>\n",
       "    .dataframe tbody tr th:only-of-type {\n",
       "        vertical-align: middle;\n",
       "    }\n",
       "\n",
       "    .dataframe tbody tr th {\n",
       "        vertical-align: top;\n",
       "    }\n",
       "\n",
       "    .dataframe thead th {\n",
       "        text-align: right;\n",
       "    }\n",
       "</style>\n",
       "<table border=\"1\" class=\"dataframe\">\n",
       "  <thead>\n",
       "    <tr style=\"text-align: right;\">\n",
       "      <th></th>\n",
       "      <th>AvgCigarettePriceDollars</th>\n",
       "    </tr>\n",
       "    <tr>\n",
       "      <th>Year</th>\n",
       "      <th></th>\n",
       "    </tr>\n",
       "  </thead>\n",
       "  <tbody>\n",
       "    <tr>\n",
       "      <th>2007</th>\n",
       "      <td>NaN</td>\n",
       "    </tr>\n",
       "    <tr>\n",
       "      <th>2010</th>\n",
       "      <td>NaN</td>\n",
       "    </tr>\n",
       "    <tr>\n",
       "      <th>2012</th>\n",
       "      <td>4.143333</td>\n",
       "    </tr>\n",
       "    <tr>\n",
       "      <th>2014</th>\n",
       "      <td>4.522170</td>\n",
       "    </tr>\n",
       "  </tbody>\n",
       "</table>\n",
       "</div>"
      ],
      "text/plain": [
       "      AvgCigarettePriceDollars\n",
       "Year                          \n",
       "2007                       NaN\n",
       "2010                       NaN\n",
       "2012                  4.143333\n",
       "2014                  4.522170"
      ]
     },
     "execution_count": 30,
     "metadata": {},
     "output_type": "execute_result"
    }
   ],
   "source": [
    "stop.groupby(\"Year\").agg({\"AvgCigarettePriceDollars\":\"mean\"})\n",
    "#We also need to take inflation into account"
   ]
  },
  {
   "cell_type": "code",
   "execution_count": 68,
   "id": "7bd08016-a2d0-48ff-b084-e31a10484442",
   "metadata": {},
   "outputs": [],
   "source": [
    "gbe = stop.groupby(\"Entity\").agg({\"AvgCigarettePriceDollars\":\"mean\"}).dropna()"
   ]
  },
  {
   "cell_type": "code",
   "execution_count": 69,
   "id": "68e3ef92-5662-40d0-9082-16451a63c7c2",
   "metadata": {},
   "outputs": [
    {
     "data": {
      "text/html": [
       "<div>\n",
       "<style scoped>\n",
       "    .dataframe tbody tr th:only-of-type {\n",
       "        vertical-align: middle;\n",
       "    }\n",
       "\n",
       "    .dataframe tbody tr th {\n",
       "        vertical-align: top;\n",
       "    }\n",
       "\n",
       "    .dataframe thead th {\n",
       "        text-align: right;\n",
       "    }\n",
       "</style>\n",
       "<table border=\"1\" class=\"dataframe\">\n",
       "  <thead>\n",
       "    <tr style=\"text-align: right;\">\n",
       "      <th></th>\n",
       "      <th>AvgCigarettePriceDollars</th>\n",
       "    </tr>\n",
       "    <tr>\n",
       "      <th>Entity</th>\n",
       "      <th></th>\n",
       "    </tr>\n",
       "  </thead>\n",
       "  <tbody>\n",
       "    <tr>\n",
       "      <th>Algeria</th>\n",
       "      <td>1.965</td>\n",
       "    </tr>\n",
       "    <tr>\n",
       "      <th>Argentina</th>\n",
       "      <td>3.130</td>\n",
       "    </tr>\n",
       "    <tr>\n",
       "      <th>Armenia</th>\n",
       "      <td>1.715</td>\n",
       "    </tr>\n",
       "    <tr>\n",
       "      <th>Australia</th>\n",
       "      <td>9.440</td>\n",
       "    </tr>\n",
       "    <tr>\n",
       "      <th>Austria</th>\n",
       "      <td>5.155</td>\n",
       "    </tr>\n",
       "    <tr>\n",
       "      <th>...</th>\n",
       "      <td>...</td>\n",
       "    </tr>\n",
       "    <tr>\n",
       "      <th>Venezuela</th>\n",
       "      <td>5.950</td>\n",
       "    </tr>\n",
       "    <tr>\n",
       "      <th>Vietnam</th>\n",
       "      <td>2.280</td>\n",
       "    </tr>\n",
       "    <tr>\n",
       "      <th>Yemen</th>\n",
       "      <td>1.825</td>\n",
       "    </tr>\n",
       "    <tr>\n",
       "      <th>Zambia</th>\n",
       "      <td>1.745</td>\n",
       "    </tr>\n",
       "    <tr>\n",
       "      <th>Zimbabwe</th>\n",
       "      <td>0.870</td>\n",
       "    </tr>\n",
       "  </tbody>\n",
       "</table>\n",
       "<p>113 rows × 1 columns</p>\n",
       "</div>"
      ],
      "text/plain": [
       "           AvgCigarettePriceDollars\n",
       "Entity                             \n",
       "Algeria                       1.965\n",
       "Argentina                     3.130\n",
       "Armenia                       1.715\n",
       "Australia                     9.440\n",
       "Austria                       5.155\n",
       "...                             ...\n",
       "Venezuela                     5.950\n",
       "Vietnam                       2.280\n",
       "Yemen                         1.825\n",
       "Zambia                        1.745\n",
       "Zimbabwe                      0.870\n",
       "\n",
       "[113 rows x 1 columns]"
      ]
     },
     "execution_count": 69,
     "metadata": {},
     "output_type": "execute_result"
    }
   ],
   "source": [
    "gbe"
   ]
  },
  {
   "cell_type": "code",
   "execution_count": 70,
   "id": "8ff2c1c1-f038-4628-a6a1-23cc2f6ab65f",
   "metadata": {},
   "outputs": [
    {
     "data": {
      "text/plain": [
       "AvgCigarettePriceDollars    6.07\n",
       "Name: United States, dtype: float64"
      ]
     },
     "execution_count": 70,
     "metadata": {},
     "output_type": "execute_result"
    }
   ],
   "source": [
    "gbe.loc[\"United States\",:]"
   ]
  },
  {
   "cell_type": "code",
   "execution_count": 71,
   "id": "fc761574-5460-433a-8525-cf5fc1bd32cd",
   "metadata": {},
   "outputs": [
    {
     "data": {
      "text/plain": [
       "<AxesSubplot:>"
      ]
     },
     "execution_count": 71,
     "metadata": {},
     "output_type": "execute_result"
    },
    {
     "data": {
      "image/png": "[encoded data removed]",
      "text/plain": [
       "<Figure size 432x288 with 1 Axes>"
      ]
     },
     "metadata": {
      "needs_background": "light"
     },
     "output_type": "display_data"
    }
   ],
   "source": [
    "gbe.boxplot()"
   ]
  },
  {
   "cell_type": "code",
   "execution_count": 53,
   "id": "63a5d4ac-2afb-4024-8a04-ffe3b816fff2",
   "metadata": {},
   "outputs": [],
   "source": [
    "taxbe = stop.groupby(\"Entity\").agg({\"AvgTaxesAsPctCigarettePrice\":\"mean\"}).dropna()"
   ]
  },
  {
   "cell_type": "code",
   "execution_count": 54,
   "id": "b428e227-e8af-487f-b8bb-25da818ff0df",
   "metadata": {},
   "outputs": [
    {
     "data": {
      "text/plain": [
       "<AxesSubplot:>"
      ]
     },
     "execution_count": 54,
     "metadata": {},
     "output_type": "execute_result"
    },
    {
     "data": {
      "image/png": "[encoded data removed]",
      "text/plain": [
       "<Figure size 432x288 with 1 Axes>"
      ]
     },
     "metadata": {
      "needs_background": "light"
     },
     "output_type": "display_data"
    }
   ],
   "source": [
    "taxbe.boxplot()"
   ]
  },
  {
   "cell_type": "code",
   "execution_count": 56,
   "id": "30470387-aec3-4c94-af0b-e424ee326a8a",
   "metadata": {},
   "outputs": [
    {
     "data": {
      "text/plain": [
       "AvgTaxesAsPctCigarettePrice    42.9\n",
       "Name: United States, dtype: float64"
      ]
     },
     "execution_count": 56,
     "metadata": {},
     "output_type": "execute_result"
    }
   ],
   "source": [
    "taxbe.loc[\"United States\",:]"
   ]
  },
  {
   "cell_type": "code",
   "execution_count": 72,
   "id": "411fea0d-30e8-4cb4-a743-0916d59195cf",
   "metadata": {},
   "outputs": [],
   "source": [
    "forceq = stop.groupby(\"Entity\").agg({\"EnforceBansTobaccoAd\":\"max\",\"HelpToQuit\":\"max\"}).dropna()"
   ]
  },
  {
   "cell_type": "code",
   "execution_count": 73,
   "id": "4e94353b-2889-41aa-8a5b-1f3d808e8163",
   "metadata": {},
   "outputs": [
    {
     "data": {
      "text/html": [
       "<div>\n",
       "<style scoped>\n",
       "    .dataframe tbody tr th:only-of-type {\n",
       "        vertical-align: middle;\n",
       "    }\n",
       "\n",
       "    .dataframe tbody tr th {\n",
       "        vertical-align: top;\n",
       "    }\n",
       "\n",
       "    .dataframe thead th {\n",
       "        text-align: right;\n",
       "    }\n",
       "</style>\n",
       "<table border=\"1\" class=\"dataframe\">\n",
       "  <thead>\n",
       "    <tr style=\"text-align: right;\">\n",
       "      <th></th>\n",
       "      <th>HelpToQuit</th>\n",
       "    </tr>\n",
       "    <tr>\n",
       "      <th>EnforceBansTobaccoAd</th>\n",
       "      <th></th>\n",
       "    </tr>\n",
       "  </thead>\n",
       "  <tbody>\n",
       "    <tr>\n",
       "      <th>2</th>\n",
       "      <td>58</td>\n",
       "    </tr>\n",
       "    <tr>\n",
       "      <th>3</th>\n",
       "      <td>1</td>\n",
       "    </tr>\n",
       "    <tr>\n",
       "      <th>4</th>\n",
       "      <td>105</td>\n",
       "    </tr>\n",
       "    <tr>\n",
       "      <th>5</th>\n",
       "      <td>30</td>\n",
       "    </tr>\n",
       "  </tbody>\n",
       "</table>\n",
       "</div>"
      ],
      "text/plain": [
       "                      HelpToQuit\n",
       "EnforceBansTobaccoAd            \n",
       "2                             58\n",
       "3                              1\n",
       "4                            105\n",
       "5                             30"
      ]
     },
     "execution_count": 73,
     "metadata": {},
     "output_type": "execute_result"
    }
   ],
   "source": [
    "forceq.groupby(\"EnforceBansTobaccoAd\").count()"
   ]
  },
  {
   "cell_type": "code",
   "execution_count": 74,
   "id": "58140e64-fbb0-424d-a81a-f566befc7755",
   "metadata": {},
   "outputs": [
    {
     "data": {
      "text/html": [
       "<div>\n",
       "<style scoped>\n",
       "    .dataframe tbody tr th:only-of-type {\n",
       "        vertical-align: middle;\n",
       "    }\n",
       "\n",
       "    .dataframe tbody tr th {\n",
       "        vertical-align: top;\n",
       "    }\n",
       "\n",
       "    .dataframe thead th {\n",
       "        text-align: right;\n",
       "    }\n",
       "</style>\n",
       "<table border=\"1\" class=\"dataframe\">\n",
       "  <thead>\n",
       "    <tr style=\"text-align: right;\">\n",
       "      <th></th>\n",
       "      <th>EnforceBansTobaccoAd</th>\n",
       "    </tr>\n",
       "    <tr>\n",
       "      <th>HelpToQuit</th>\n",
       "      <th></th>\n",
       "    </tr>\n",
       "  </thead>\n",
       "  <tbody>\n",
       "    <tr>\n",
       "      <th>1</th>\n",
       "      <td>1</td>\n",
       "    </tr>\n",
       "    <tr>\n",
       "      <th>2</th>\n",
       "      <td>13</td>\n",
       "    </tr>\n",
       "    <tr>\n",
       "      <th>3</th>\n",
       "      <td>49</td>\n",
       "    </tr>\n",
       "    <tr>\n",
       "      <th>4</th>\n",
       "      <td>105</td>\n",
       "    </tr>\n",
       "    <tr>\n",
       "      <th>5</th>\n",
       "      <td>26</td>\n",
       "    </tr>\n",
       "  </tbody>\n",
       "</table>\n",
       "</div>"
      ],
      "text/plain": [
       "            EnforceBansTobaccoAd\n",
       "HelpToQuit                      \n",
       "1                              1\n",
       "2                             13\n",
       "3                             49\n",
       "4                            105\n",
       "5                             26"
      ]
     },
     "execution_count": 74,
     "metadata": {},
     "output_type": "execute_result"
    }
   ],
   "source": [
    "forceq.groupby(\"HelpToQuit\").count()"
   ]
  },
  {
   "cell_type": "code",
   "execution_count": 75,
   "id": "52593570-8c59-4836-acec-356746217b47",
   "metadata": {},
   "outputs": [
    {
     "data": {
      "text/plain": [
       "EnforceBansTobaccoAd    2\n",
       "HelpToQuit              5\n",
       "Name: United States, dtype: int64"
      ]
     },
     "execution_count": 75,
     "metadata": {},
     "output_type": "execute_result"
    }
   ],
   "source": [
    "forceq.loc[\"United States\",:]"
   ]
  },
  {
   "cell_type": "code",
   "execution_count": null,
   "id": "8d9eab92-b05d-49e3-90dd-3a5dffc951fa",
   "metadata": {},
   "outputs": [],
   "source": [
    "ww = pd.read_csv(\"data/\")"
   ]
  }
 ],
 "metadata": {
  "kernelspec": {
   "display_name": "Python 3",
   "language": "python",
   "name": "python3"
  },
  "language_info": {
   "codemirror_mode": {
    "name": "ipython",
    "version": 3
   },
   "file_extension": ".py",
   "mimetype": "text/x-python",
   "name": "python",
   "nbconvert_exporter": "python",
   "pygments_lexer": "ipython3",
   "version": "3.8.8"
  }
 },
 "nbformat": 4,
 "nbformat_minor": 5
}
