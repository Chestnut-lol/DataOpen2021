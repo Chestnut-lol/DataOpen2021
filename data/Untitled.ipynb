{
 "cells": [
  {
   "cell_type": "code",
   "execution_count": 1,
   "id": "53b649d1-0d27-4f61-b203-44cd5e44d4ea",
   "metadata": {},
   "outputs": [],
   "source": [
    "import numpy as np\n",
    "import pandas as pd\n",
    "import matplotlib.pyplot as plt\n",
    "%matplotlib inline"
   ]
  },
  {
   "cell_type": "code",
   "execution_count": null,
   "id": "2ce17a8f-3143-480e-b5c6-65cf8089ee0a",
   "metadata": {},
   "outputs": [],
   "source": [
    "stop = pd.read_csv(\"data/stop_smoking.csv\")\n",
    "ww = pd.read_csv(\"data/tabacco_use_ww.csv\")\n",
    "death_rate = pd.read_csv(\"data/death_rates_smoking_age.csv\")\n"
   ]
  }
 ],
 "metadata": {
  "kernelspec": {
   "display_name": "Python 3",
   "language": "python",
   "name": "python3"
  },
  "language_info": {
   "codemirror_mode": {
    "name": "ipython",
    "version": 3
   },
   "file_extension": ".py",
   "mimetype": "text/x-python",
   "name": "python",
   "nbconvert_exporter": "python",
   "pygments_lexer": "ipython3",
   "version": "3.8.8"
  }
 },
 "nbformat": 4,
 "nbformat_minor": 5
}
